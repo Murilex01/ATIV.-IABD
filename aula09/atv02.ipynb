{
 "cells": [
  {
   "cell_type": "code",
   "execution_count": null,
   "metadata": {},
   "outputs": [],
   "source": [
    "import pandas as pd \n",
    "from sklearn.model_selection import train_test_split\n",
    "from sklearn.svm import SVC\n",
    "from sklearn.metrics import accuracy_score, classification_report,confusion_matrix\n",
    "import matplotlib.pyplot as plt\n",
    "import seaborn as sns"
   ]
  },
  {
   "cell_type": "code",
   "execution_count": null,
   "metadata": {},
   "outputs": [],
   "source": [
    "data = pd.dataFrame({\n",
    "    \"ph\":[3.0, 5.5, 2.5, 7.0, 4.0, 6.5, 3.5, 6.0, 2.0, 7.5, 4.5, 5.0, 2.8, 8.0],\n",
    "    \"concentracao\":[\"concentrada\",\"diluída\",\"concentrada\",\"diluída\",\"concentrada\",\"diluída\",\"concentrada\",\"diluída\",\"concentrada\",\"diluída\",\"concentrada\",\"diluída\",\"concentrada\",\"diluída\"],\n",
    "    \"cheiro\":[\"com cheiro\",\"sem cheiro\",\"com cheiro\",\"sem cheiro\",\"com cheiro\",\"sem cheiro\",\"com cheiro\",\"sem cheiro\",\"com cheiro\",\"sem cheiro\",\"com cheiro\",\"sem cheiro\",\"com cheiro\",\"sem cheiro\"],\n",
    "    \"classe\": [\"acida\",\"basica\",\"acida\",\"basica\",\"acida\",\"basica\",\"acida\",\"basica\",\"acida\",\"basica\",\"acida\",\"basica\",\"acida\",\"basica\",]\n",
    "\n",
    "})"
   ]
  }
 ],
 "metadata": {
  "kernelspec": {
   "display_name": "Python 3",
   "language": "python",
   "name": "python3"
  },
  "language_info": {
   "name": "python",
   "version": "3.11.4"
  }
 },
 "nbformat": 4,
 "nbformat_minor": 2
}
